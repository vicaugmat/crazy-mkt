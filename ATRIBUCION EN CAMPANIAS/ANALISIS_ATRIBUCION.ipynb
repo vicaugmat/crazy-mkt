{
 "cells": [
  {
   "cell_type": "markdown",
   "metadata": {},
   "source": [
    "# Análisis de Atribución aplicado a marketing"
   ]
  },
  {
   "cell_type": "markdown",
   "metadata": {},
   "source": [
    "## Librerías"
   ]
  },
  {
   "cell_type": "code",
   "execution_count": 1,
   "metadata": {},
   "outputs": [],
   "source": [
    "import pandas as pd\n",
    "import numpy as np\n",
    "import os"
   ]
  },
  {
   "cell_type": "markdown",
   "metadata": {},
   "source": [
    "# Funciones"
   ]
  },
  {
   "cell_type": "markdown",
   "metadata": {},
   "source": [
    "Se crearán los siguientes parámetros:\n",
    "- df: DataFrame con los datos de interacción de las campañas.\n",
    "- user_id_col: Nombre de la columna que contiene los identificadores de usuario.\n",
    "- campaign_source_col: Nombre de la columna que contiene los nombres de las campañas.\n",
    "- timestamp_col: Nombre de la columna que contiene las marcas de tiempo de las interacciones.\n",
    "- conversion_col: Nombre de la columna que indica si hubo conversión (1) o no (0)."
   ]
  },
  {
   "cell_type": "markdown",
   "metadata": {},
   "source": [
    "1. Atribución al último click"
   ]
  },
  {
   "cell_type": "code",
   "execution_count": 2,
   "metadata": {},
   "outputs": [],
   "source": [
    "def atribucion_ultimo_click(df, user_id_col, campaign_source_col, timestamp_col, conversion_col):\n",
    "\n",
    "    # Ordenamos por usuario y las fechas de interacción\n",
    "    df = df.sort_values(by=[user_id_col, timestamp_col])\n",
    "    \n",
    "    # Obtenemos la última campaña\n",
    "    last_click_attribution = df[df[conversion_col] == 1].groupby(user_id_col).last().reset_index()\n",
    "    \n",
    "    # Resumen de conversiones por campaña\n",
    "    conversion_summary = last_click_attribution[campaign_source_col].value_counts().reset_index()\n",
    "    conversion_summary.columns = [campaign_source_col, 'CONVERSIONES']\n",
    "    \n",
    "    return conversion_summary"
   ]
  },
  {
   "cell_type": "markdown",
   "metadata": {},
   "source": [
    "2. Atribución lineal"
   ]
  },
  {
   "cell_type": "code",
   "execution_count": 3,
   "metadata": {},
   "outputs": [],
   "source": [
    "def atribucion_lineal (df, user_id_col, campaign_source_col, timestamp_col, conversion_col):\n",
    "    \n",
    "    # Ordenamos por usuario y timestamp\n",
    "    df = df.sort_values(by=[user_id_col, timestamp_col])\n",
    "    \n",
    "    # Creamos una columna de contribución inicializada en 0\n",
    "    df['CONTRIBUCION'] = 0.0\n",
    "    \n",
    "    # Obtenemos los usuarios que tuvieron una conversión\n",
    "    users_with_conversions = df[df[conversion_col] == 1][user_id_col].unique()\n",
    "    \n",
    "    # Iteramos sobre cada usuario que tuvo una conversión\n",
    "    for user_id in users_with_conversions:\n",
    "        # Obtenemos las interacciones de este usuario\n",
    "        user_interactions = df[df[user_id_col] == user_id]\n",
    "        \n",
    "        # Obtenemos el timestamp de la conversión\n",
    "        conversion_time = user_interactions[user_interactions[conversion_col] == 1][timestamp_col].max()\n",
    "        \n",
    "        # Filtramos las interacciones antes de la conversión\n",
    "        interactions_before_conversion = user_interactions[user_interactions[timestamp_col] <= conversion_time]\n",
    "        \n",
    "        # Calculamos la contribución uniforme para cada interacción antes de la conversión\n",
    "        contribution_value = 1.0 / len(interactions_before_conversion)\n",
    "        df.loc[interactions_before_conversion.index, 'CONTRIBUCION'] = contribution_value\n",
    "    \n",
    "    # Resumen de contribuciones por campaña\n",
    "    attribution_summary = df.groupby(campaign_source_col)['CONTRIBUCION'].sum().reset_index()\n",
    "    attribution_summary.columns = [campaign_source_col, 'CONVERSIONES']\n",
    "    \n",
    "    return attribution_summary"
   ]
  },
  {
   "cell_type": "markdown",
   "metadata": {},
   "source": [
    "3. Atribución en U"
   ]
  },
  {
   "cell_type": "code",
   "execution_count": 4,
   "metadata": {},
   "outputs": [],
   "source": [
    "def atribucion_u_shape (df, user_id_col, campaign_source_col, timestamp_col, conversion_col):\n",
    "    \n",
    "    # Ordenamos por usuario y timestamp\n",
    "    df = df.sort_values(by=[user_id_col, timestamp_col])\n",
    "    \n",
    "    # Creamos una columna de contribución inicializada en 0\n",
    "    df['CONTRIBUCION'] = 0.0\n",
    "    \n",
    "    # Obtenemos los usuarios que tuvieron una conversión\n",
    "    users_with_conversions = df[df[conversion_col] == 1][user_id_col].unique()\n",
    "    \n",
    "    # Iteramos sobre cada usuario que tuvo una conversión\n",
    "    for user_id in users_with_conversions:\n",
    "        # Obtenemos las interacciones de este usuario\n",
    "        user_interactions = df[df[user_id_col] == user_id]\n",
    "        \n",
    "        # Obtenemos el timestamp de la conversión\n",
    "        conversion_time = user_interactions[user_interactions[conversion_col] == 1][timestamp_col].max()\n",
    "        \n",
    "        # Filtramos las interacciones antes de la conversión\n",
    "        interactions_before_conversion = user_interactions[user_interactions[timestamp_col] <= conversion_time]\n",
    "        \n",
    "        num_interactions = len(interactions_before_conversion)\n",
    "        \n",
    "        if num_interactions == 1:\n",
    "            # Si solo hay un punto de contacto, se le asigna todo el crédito\n",
    "            df.loc[interactions_before_conversion.index, 'CONTRIBUCION'] = 1.0\n",
    "        elif num_interactions == 2:\n",
    "            # Si hay dos puntos de contacto, se distribuye el crédito al 50%\n",
    "            df.loc[interactions_before_conversion.index, 'CONTRIBUCION'] = 0.5\n",
    "        else:\n",
    "            # Asignar 40% al primer y último punto de contacto\n",
    "            first_interaction_idx = interactions_before_conversion.index[0]\n",
    "            last_interaction_idx = interactions_before_conversion.index[-1]\n",
    "            df.loc[first_interaction_idx, 'CONTRIBUCION'] = 0.4\n",
    "            df.loc[last_interaction_idx, 'CONTRIBUCION'] = 0.4\n",
    "            \n",
    "            # Asignar el 20% restante de manera uniforme a los puntos de contacto intermedios\n",
    "            intermediate_interactions = interactions_before_conversion.iloc[1:-1]\n",
    "            intermediate_contribution = 0.2 / len(intermediate_interactions)\n",
    "            df.loc[intermediate_interactions.index, 'CONTRIBUCION'] = intermediate_contribution\n",
    "    \n",
    "    # Resumen de contribuciones por campaña\n",
    "    attribution_summary = df.groupby(campaign_source_col)['CONTRIBUCION'].sum().reset_index()\n",
    "    attribution_summary.columns = [campaign_source_col, 'CONVERSIONES']\n",
    "    \n",
    "    return attribution_summary"
   ]
  },
  {
   "cell_type": "markdown",
   "metadata": {},
   "source": [
    "4. Atribución basada en decaimiento temporal"
   ]
  },
  {
   "cell_type": "code",
   "execution_count": 5,
   "metadata": {},
   "outputs": [],
   "source": [
    "def time_decay_attribution (df, user_id_col, campaign_source_col, timestamp_col, conversion_col, half_life):\n",
    "    \n",
    "    # Ordenamos por usuario y timestamp\n",
    "    df = df.sort_values(by=[user_id_col, timestamp_col])\n",
    "    \n",
    "    # Creamos una columna de contribución inicializada en 0\n",
    "    df['CONTRIBUCION'] = 0.0\n",
    "    \n",
    "    # Obtenemos los usuarios que tuvieron una conversión\n",
    "    users_with_conversions = df[df[conversion_col] == 1][user_id_col].unique()\n",
    "    \n",
    "    # Iteramos sobre cada usuario que tuvo una conversión\n",
    "    for user_id in users_with_conversions:\n",
    "        # Obtenemos las interacciones de este usuario\n",
    "        user_interactions = df[df[user_id_col] == user_id]\n",
    "        \n",
    "        # Obtenemos el timestamp de la conversión\n",
    "        conversion_time = user_interactions[user_interactions[conversion_col] == 1][timestamp_col].max()\n",
    "        \n",
    "        # Filtramos las interacciones antes de la conversión\n",
    "        interactions_before_conversion = user_interactions[user_interactions[timestamp_col] <= conversion_time]\n",
    "        \n",
    "        # Calcular el tiempo en días desde cada interacción hasta la conversión\n",
    "        time_diff = (conversion_time - interactions_before_conversion[timestamp_col]).dt.total_seconds() / (60 * 60 * 24)\n",
    "        \n",
    "        # Calcular el decaimiento exponencial\n",
    "        decay_factors = np.exp(-time_diff / half_life)\n",
    "        \n",
    "        # Normalizar los factores de decaimiento para que sumen a 1\n",
    "        decay_factors /= decay_factors.sum()\n",
    "        \n",
    "        # Asignar los valores de contribución\n",
    "        df.loc[interactions_before_conversion.index, 'CONTRIBUCION'] = decay_factors\n",
    "    \n",
    "    # Resumen de contribuciones por campaña\n",
    "    attribution_summary = df.groupby(campaign_source_col)['CONTRIBUCION'].sum().reset_index()\n",
    "    attribution_summary.columns = [campaign_source_col, 'CONVERSIONES']\n",
    "    \n",
    "    return attribution_summary"
   ]
  },
  {
   "cell_type": "markdown",
   "metadata": {},
   "source": [
    "# Fuente de datos"
   ]
  },
  {
   "cell_type": "code",
   "execution_count": 6,
   "metadata": {},
   "outputs": [],
   "source": [
    "mkt_df=pd.read_excel('Fuente_Datos_Recreados.xlsx')"
   ]
  },
  {
   "cell_type": "code",
   "execution_count": 7,
   "metadata": {},
   "outputs": [
    {
     "name": "stdout",
     "output_type": "stream",
     "text": [
      "<class 'pandas.core.frame.DataFrame'>\n",
      "RangeIndex: 51 entries, 0 to 50\n",
      "Data columns (total 5 columns):\n",
      " #   Column           Non-Null Count  Dtype         \n",
      "---  ------           --------------  -----         \n",
      " 0   ID               51 non-null     int64         \n",
      " 1   USER_ID          51 non-null     int64         \n",
      " 2   CAMPAIGN_SOURCE  51 non-null     object        \n",
      " 3   FECHA            51 non-null     datetime64[ns]\n",
      " 4   CONVERSION       51 non-null     int64         \n",
      "dtypes: datetime64[ns](1), int64(3), object(1)\n",
      "memory usage: 2.1+ KB\n"
     ]
    }
   ],
   "source": [
    "mkt_df.info()"
   ]
  },
  {
   "cell_type": "code",
   "execution_count": 8,
   "metadata": {},
   "outputs": [],
   "source": [
    "#Ordenamos el dataframe por usuario y por fecha de impacto en marketing\n",
    "mkt_df=mkt_df.sort_values(by=['USER_ID', 'FECHA'])"
   ]
  },
  {
   "cell_type": "code",
   "execution_count": 9,
   "metadata": {},
   "outputs": [
    {
     "data": {
      "text/html": [
       "<div>\n",
       "<style scoped>\n",
       "    .dataframe tbody tr th:only-of-type {\n",
       "        vertical-align: middle;\n",
       "    }\n",
       "\n",
       "    .dataframe tbody tr th {\n",
       "        vertical-align: top;\n",
       "    }\n",
       "\n",
       "    .dataframe thead th {\n",
       "        text-align: right;\n",
       "    }\n",
       "</style>\n",
       "<table border=\"1\" class=\"dataframe\">\n",
       "  <thead>\n",
       "    <tr style=\"text-align: right;\">\n",
       "      <th></th>\n",
       "      <th>ID</th>\n",
       "      <th>USER_ID</th>\n",
       "      <th>CAMPAIGN_SOURCE</th>\n",
       "      <th>FECHA</th>\n",
       "      <th>CONVERSION</th>\n",
       "    </tr>\n",
       "  </thead>\n",
       "  <tbody>\n",
       "    <tr>\n",
       "      <th>9</th>\n",
       "      <td>10</td>\n",
       "      <td>28237077</td>\n",
       "      <td>EMAIL</td>\n",
       "      <td>2024-07-01</td>\n",
       "      <td>1</td>\n",
       "    </tr>\n",
       "    <tr>\n",
       "      <th>50</th>\n",
       "      <td>51</td>\n",
       "      <td>28237077</td>\n",
       "      <td>SEO</td>\n",
       "      <td>2024-07-30</td>\n",
       "      <td>1</td>\n",
       "    </tr>\n",
       "    <tr>\n",
       "      <th>22</th>\n",
       "      <td>23</td>\n",
       "      <td>41875735</td>\n",
       "      <td>WHATSAPP</td>\n",
       "      <td>2024-07-20</td>\n",
       "      <td>1</td>\n",
       "    </tr>\n",
       "    <tr>\n",
       "      <th>34</th>\n",
       "      <td>35</td>\n",
       "      <td>41875735</td>\n",
       "      <td>SOCIAL MEDIA</td>\n",
       "      <td>2024-07-25</td>\n",
       "      <td>1</td>\n",
       "    </tr>\n",
       "    <tr>\n",
       "      <th>41</th>\n",
       "      <td>42</td>\n",
       "      <td>42322256</td>\n",
       "      <td>ADS</td>\n",
       "      <td>2024-07-27</td>\n",
       "      <td>1</td>\n",
       "    </tr>\n",
       "    <tr>\n",
       "      <th>23</th>\n",
       "      <td>24</td>\n",
       "      <td>46642299</td>\n",
       "      <td>WHATSAPP</td>\n",
       "      <td>2024-07-20</td>\n",
       "      <td>1</td>\n",
       "    </tr>\n",
       "    <tr>\n",
       "      <th>35</th>\n",
       "      <td>36</td>\n",
       "      <td>46642299</td>\n",
       "      <td>SOCIAL MEDIA</td>\n",
       "      <td>2024-07-25</td>\n",
       "      <td>1</td>\n",
       "    </tr>\n",
       "    <tr>\n",
       "      <th>6</th>\n",
       "      <td>7</td>\n",
       "      <td>75818490</td>\n",
       "      <td>EMAIL</td>\n",
       "      <td>2024-07-01</td>\n",
       "      <td>1</td>\n",
       "    </tr>\n",
       "    <tr>\n",
       "      <th>46</th>\n",
       "      <td>47</td>\n",
       "      <td>75818490</td>\n",
       "      <td>WHATSAPP</td>\n",
       "      <td>2024-07-27</td>\n",
       "      <td>1</td>\n",
       "    </tr>\n",
       "    <tr>\n",
       "      <th>2</th>\n",
       "      <td>3</td>\n",
       "      <td>75860391</td>\n",
       "      <td>EMAIL</td>\n",
       "      <td>2024-07-01</td>\n",
       "      <td>1</td>\n",
       "    </tr>\n",
       "    <tr>\n",
       "      <th>42</th>\n",
       "      <td>43</td>\n",
       "      <td>75860391</td>\n",
       "      <td>ADS</td>\n",
       "      <td>2024-07-27</td>\n",
       "      <td>1</td>\n",
       "    </tr>\n",
       "  </tbody>\n",
       "</table>\n",
       "</div>"
      ],
      "text/plain": [
       "    ID   USER_ID CAMPAIGN_SOURCE      FECHA  CONVERSION\n",
       "9   10  28237077           EMAIL 2024-07-01           1\n",
       "50  51  28237077             SEO 2024-07-30           1\n",
       "22  23  41875735        WHATSAPP 2024-07-20           1\n",
       "34  35  41875735    SOCIAL MEDIA 2024-07-25           1\n",
       "41  42  42322256             ADS 2024-07-27           1\n",
       "23  24  46642299        WHATSAPP 2024-07-20           1\n",
       "35  36  46642299    SOCIAL MEDIA 2024-07-25           1\n",
       "6    7  75818490           EMAIL 2024-07-01           1\n",
       "46  47  75818490        WHATSAPP 2024-07-27           1\n",
       "2    3  75860391           EMAIL 2024-07-01           1\n",
       "42  43  75860391             ADS 2024-07-27           1"
      ]
     },
     "execution_count": 9,
     "metadata": {},
     "output_type": "execute_result"
    }
   ],
   "source": [
    "mkt_df[mkt_df['CONVERSION'] == 1]"
   ]
  },
  {
   "cell_type": "markdown",
   "metadata": {},
   "source": [
    "# Análisis"
   ]
  },
  {
   "cell_type": "markdown",
   "metadata": {},
   "source": [
    "1. Atribución al último click"
   ]
  },
  {
   "cell_type": "code",
   "execution_count": 10,
   "metadata": {},
   "outputs": [],
   "source": [
    "conversion_uc=atribucion_ultimo_click(mkt_df,'USER_ID','CAMPAIGN_SOURCE','FECHA','CONVERSION')"
   ]
  },
  {
   "cell_type": "code",
   "execution_count": 11,
   "metadata": {},
   "outputs": [
    {
     "data": {
      "text/html": [
       "<div>\n",
       "<style scoped>\n",
       "    .dataframe tbody tr th:only-of-type {\n",
       "        vertical-align: middle;\n",
       "    }\n",
       "\n",
       "    .dataframe tbody tr th {\n",
       "        vertical-align: top;\n",
       "    }\n",
       "\n",
       "    .dataframe thead th {\n",
       "        text-align: right;\n",
       "    }\n",
       "</style>\n",
       "<table border=\"1\" class=\"dataframe\">\n",
       "  <thead>\n",
       "    <tr style=\"text-align: right;\">\n",
       "      <th></th>\n",
       "      <th>CAMPAIGN_SOURCE</th>\n",
       "      <th>CONVERSIONES</th>\n",
       "    </tr>\n",
       "  </thead>\n",
       "  <tbody>\n",
       "    <tr>\n",
       "      <th>0</th>\n",
       "      <td>SOCIAL MEDIA</td>\n",
       "      <td>2</td>\n",
       "    </tr>\n",
       "    <tr>\n",
       "      <th>1</th>\n",
       "      <td>ADS</td>\n",
       "      <td>2</td>\n",
       "    </tr>\n",
       "    <tr>\n",
       "      <th>2</th>\n",
       "      <td>SEO</td>\n",
       "      <td>1</td>\n",
       "    </tr>\n",
       "    <tr>\n",
       "      <th>3</th>\n",
       "      <td>WHATSAPP</td>\n",
       "      <td>1</td>\n",
       "    </tr>\n",
       "  </tbody>\n",
       "</table>\n",
       "</div>"
      ],
      "text/plain": [
       "  CAMPAIGN_SOURCE  CONVERSIONES\n",
       "0    SOCIAL MEDIA             2\n",
       "1             ADS             2\n",
       "2             SEO             1\n",
       "3        WHATSAPP             1"
      ]
     },
     "execution_count": 11,
     "metadata": {},
     "output_type": "execute_result"
    }
   ],
   "source": [
    "conversion_uc"
   ]
  },
  {
   "cell_type": "markdown",
   "metadata": {},
   "source": [
    "2. Atribución lineal"
   ]
  },
  {
   "cell_type": "code",
   "execution_count": 12,
   "metadata": {},
   "outputs": [],
   "source": [
    "conversion_lineal = atribucion_lineal (mkt_df, 'USER_ID','CAMPAIGN_SOURCE','FECHA','CONVERSION')"
   ]
  },
  {
   "cell_type": "code",
   "execution_count": 13,
   "metadata": {},
   "outputs": [
    {
     "data": {
      "text/html": [
       "<div>\n",
       "<style scoped>\n",
       "    .dataframe tbody tr th:only-of-type {\n",
       "        vertical-align: middle;\n",
       "    }\n",
       "\n",
       "    .dataframe tbody tr th {\n",
       "        vertical-align: top;\n",
       "    }\n",
       "\n",
       "    .dataframe thead th {\n",
       "        text-align: right;\n",
       "    }\n",
       "</style>\n",
       "<table border=\"1\" class=\"dataframe\">\n",
       "  <thead>\n",
       "    <tr style=\"text-align: right;\">\n",
       "      <th></th>\n",
       "      <th>CAMPAIGN_SOURCE</th>\n",
       "      <th>CONVERSIONES</th>\n",
       "    </tr>\n",
       "  </thead>\n",
       "  <tbody>\n",
       "    <tr>\n",
       "      <th>0</th>\n",
       "      <td>ADS</td>\n",
       "      <td>1.000000</td>\n",
       "    </tr>\n",
       "    <tr>\n",
       "      <th>1</th>\n",
       "      <td>EMAIL</td>\n",
       "      <td>1.833333</td>\n",
       "    </tr>\n",
       "    <tr>\n",
       "      <th>2</th>\n",
       "      <td>SEO</td>\n",
       "      <td>0.333333</td>\n",
       "    </tr>\n",
       "    <tr>\n",
       "      <th>3</th>\n",
       "      <td>SOCIAL MEDIA</td>\n",
       "      <td>1.000000</td>\n",
       "    </tr>\n",
       "    <tr>\n",
       "      <th>4</th>\n",
       "      <td>WHATSAPP</td>\n",
       "      <td>1.833333</td>\n",
       "    </tr>\n",
       "  </tbody>\n",
       "</table>\n",
       "</div>"
      ],
      "text/plain": [
       "  CAMPAIGN_SOURCE  CONVERSIONES\n",
       "0             ADS      1.000000\n",
       "1           EMAIL      1.833333\n",
       "2             SEO      0.333333\n",
       "3    SOCIAL MEDIA      1.000000\n",
       "4        WHATSAPP      1.833333"
      ]
     },
     "execution_count": 13,
     "metadata": {},
     "output_type": "execute_result"
    }
   ],
   "source": [
    "conversion_lineal"
   ]
  },
  {
   "cell_type": "markdown",
   "metadata": {},
   "source": [
    "3. Atribución en U"
   ]
  },
  {
   "cell_type": "code",
   "execution_count": 14,
   "metadata": {},
   "outputs": [],
   "source": [
    "conversion_u_shape = atribucion_u_shape (mkt_df, 'USER_ID','CAMPAIGN_SOURCE','FECHA','CONVERSION')"
   ]
  },
  {
   "cell_type": "code",
   "execution_count": 15,
   "metadata": {},
   "outputs": [
    {
     "data": {
      "text/html": [
       "<div>\n",
       "<style scoped>\n",
       "    .dataframe tbody tr th:only-of-type {\n",
       "        vertical-align: middle;\n",
       "    }\n",
       "\n",
       "    .dataframe tbody tr th {\n",
       "        vertical-align: top;\n",
       "    }\n",
       "\n",
       "    .dataframe thead th {\n",
       "        text-align: right;\n",
       "    }\n",
       "</style>\n",
       "<table border=\"1\" class=\"dataframe\">\n",
       "  <thead>\n",
       "    <tr style=\"text-align: right;\">\n",
       "      <th></th>\n",
       "      <th>CAMPAIGN_SOURCE</th>\n",
       "      <th>CONVERSIONES</th>\n",
       "    </tr>\n",
       "  </thead>\n",
       "  <tbody>\n",
       "    <tr>\n",
       "      <th>0</th>\n",
       "      <td>ADS</td>\n",
       "      <td>1.0</td>\n",
       "    </tr>\n",
       "    <tr>\n",
       "      <th>1</th>\n",
       "      <td>EMAIL</td>\n",
       "      <td>1.9</td>\n",
       "    </tr>\n",
       "    <tr>\n",
       "      <th>2</th>\n",
       "      <td>SEO</td>\n",
       "      <td>0.4</td>\n",
       "    </tr>\n",
       "    <tr>\n",
       "      <th>3</th>\n",
       "      <td>SOCIAL MEDIA</td>\n",
       "      <td>1.0</td>\n",
       "    </tr>\n",
       "    <tr>\n",
       "      <th>4</th>\n",
       "      <td>WHATSAPP</td>\n",
       "      <td>1.7</td>\n",
       "    </tr>\n",
       "  </tbody>\n",
       "</table>\n",
       "</div>"
      ],
      "text/plain": [
       "  CAMPAIGN_SOURCE  CONVERSIONES\n",
       "0             ADS           1.0\n",
       "1           EMAIL           1.9\n",
       "2             SEO           0.4\n",
       "3    SOCIAL MEDIA           1.0\n",
       "4        WHATSAPP           1.7"
      ]
     },
     "execution_count": 15,
     "metadata": {},
     "output_type": "execute_result"
    }
   ],
   "source": [
    "conversion_u_shape"
   ]
  },
  {
   "cell_type": "markdown",
   "metadata": {},
   "source": [
    "4. Atribución basada en decaimiento temporal"
   ]
  },
  {
   "cell_type": "code",
   "execution_count": 16,
   "metadata": {},
   "outputs": [],
   "source": [
    "# Definimos una vida media (half-life) de 7 días para el decaimiento exponencial\n",
    "half_life = 7"
   ]
  },
  {
   "cell_type": "code",
   "execution_count": 17,
   "metadata": {},
   "outputs": [],
   "source": [
    "conversion_summary = time_decay_attribution (mkt_df, 'USER_ID','CAMPAIGN_SOURCE','FECHA','CONVERSION', half_life)"
   ]
  },
  {
   "cell_type": "code",
   "execution_count": 18,
   "metadata": {},
   "outputs": [
    {
     "data": {
      "text/html": [
       "<div>\n",
       "<style scoped>\n",
       "    .dataframe tbody tr th:only-of-type {\n",
       "        vertical-align: middle;\n",
       "    }\n",
       "\n",
       "    .dataframe tbody tr th {\n",
       "        vertical-align: top;\n",
       "    }\n",
       "\n",
       "    .dataframe thead th {\n",
       "        text-align: right;\n",
       "    }\n",
       "</style>\n",
       "<table border=\"1\" class=\"dataframe\">\n",
       "  <thead>\n",
       "    <tr style=\"text-align: right;\">\n",
       "      <th></th>\n",
       "      <th>CAMPAIGN_SOURCE</th>\n",
       "      <th>CONVERSIONES</th>\n",
       "    </tr>\n",
       "  </thead>\n",
       "  <tbody>\n",
       "    <tr>\n",
       "      <th>0</th>\n",
       "      <td>ADS</td>\n",
       "      <td>1.952414</td>\n",
       "    </tr>\n",
       "    <tr>\n",
       "      <th>1</th>\n",
       "      <td>EMAIL</td>\n",
       "      <td>0.080902</td>\n",
       "    </tr>\n",
       "    <tr>\n",
       "      <th>2</th>\n",
       "      <td>SEO</td>\n",
       "      <td>0.599766</td>\n",
       "    </tr>\n",
       "    <tr>\n",
       "      <th>3</th>\n",
       "      <td>SOCIAL MEDIA</td>\n",
       "      <td>1.342695</td>\n",
       "    </tr>\n",
       "    <tr>\n",
       "      <th>4</th>\n",
       "      <td>WHATSAPP</td>\n",
       "      <td>2.024223</td>\n",
       "    </tr>\n",
       "  </tbody>\n",
       "</table>\n",
       "</div>"
      ],
      "text/plain": [
       "  CAMPAIGN_SOURCE  CONVERSIONES\n",
       "0             ADS      1.952414\n",
       "1           EMAIL      0.080902\n",
       "2             SEO      0.599766\n",
       "3    SOCIAL MEDIA      1.342695\n",
       "4        WHATSAPP      2.024223"
      ]
     },
     "execution_count": 18,
     "metadata": {},
     "output_type": "execute_result"
    }
   ],
   "source": [
    "conversion_summary"
   ]
  },
  {
   "cell_type": "code",
   "execution_count": null,
   "metadata": {},
   "outputs": [],
   "source": []
  }
 ],
 "metadata": {
  "kernelspec": {
   "display_name": "myenv",
   "language": "python",
   "name": "python3"
  },
  "language_info": {
   "codemirror_mode": {
    "name": "ipython",
    "version": 3
   },
   "file_extension": ".py",
   "mimetype": "text/x-python",
   "name": "python",
   "nbconvert_exporter": "python",
   "pygments_lexer": "ipython3",
   "version": "3.10.13"
  }
 },
 "nbformat": 4,
 "nbformat_minor": 2
}
