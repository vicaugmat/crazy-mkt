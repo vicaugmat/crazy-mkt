{
 "cells": [
  {
   "cell_type": "markdown",
   "metadata": {},
   "source": [
    "# Optimizar Páginas Web"
   ]
  },
  {
   "cell_type": "markdown",
   "metadata": {},
   "source": [
    "## Liberías a usar"
   ]
  },
  {
   "cell_type": "code",
   "execution_count": 1,
   "metadata": {},
   "outputs": [],
   "source": [
    "import requests\n",
    "from bs4 import BeautifulSoup\n",
    "import nltk\n",
    "from nltk.corpus import stopwords"
   ]
  },
  {
   "cell_type": "markdown",
   "metadata": {},
   "source": [
    "## Funciones"
   ]
  },
  {
   "cell_type": "code",
   "execution_count": 2,
   "metadata": {},
   "outputs": [],
   "source": [
    "# Constantes\n",
    "META_DESCRIPTION = 'description'\n",
    "\n",
    "def analizar_seo_prime(url):\n",
    "    try:\n",
    "        # Realizar una solicitud GET a la URL\n",
    "        respuesta = requests.get(url)\n",
    "        \n",
    "        # Verificar si la solicitud fue exitosa\n",
    "        if respuesta.status_code != 200:\n",
    "            raise Exception(f\"Error {respuesta.status_code}\")\n",
    "        \n",
    "        # Parsear el contenido HTML con BeautifulSoup\n",
    "        soup = BeautifulSoup(respuesta.content, 'html.parser')\n",
    "        \n",
    "        # Extraer metadatos relevantes para SEO\n",
    "        title = soup.find('title').text.strip()\n",
    "        meta_description = soup.find('meta', attrs={'name': META_DESCRIPTION})\n",
    "        \n",
    "        # Imprimir resultados\n",
    "        print(f\"Título: {title}\")\n",
    "        print(f\"Descripción: {meta_description['content'] if meta_description else 'No encontrada'}\")\n",
    "        \n",
    "        # Analizar la estructura de encabezados (h1, h2, h3, etc.)\n",
    "        encabezados = soup.find_all(['h1', 'h2', 'h3', 'h4', 'h5', 'h6'])\n",
    "        print(\"Estructura de encabezados:\")\n",
    "        for encabezado in encabezados:\n",
    "            print(f\"{encabezado.name}: {encabezado.text.strip()}\")\n",
    "        \n",
    "        # Contar el número de enlaces internos y externos\n",
    "        enlaces = soup.find_all('a')\n",
    "        enlaces_internos = [enlace for enlace in enlaces if enlace['href'].startswith('/')]\n",
    "        enlaces_externos = [enlace for enlace in enlaces if not enlace['href'].startswith('/')]\n",
    "        print(f\"Enlaces internos: {len(enlaces_internos)}\")\n",
    "        print(f\"Enlaces externos: {len(enlaces_externos)}\")\n",
    "        \n",
    "        # Análisis de velocidad de carga\n",
    "        tiempo_de_carga = respuesta.elapsed.total_seconds()\n",
    "        print(f\"Tiempo de carga: {tiempo_de_carga:.2f} segundos\")\n",
    "        \n",
    "        # Análisis de accesibilidad\n",
    "        imagenes_sin_alt = soup.find_all('img', attrs={'alt': False})\n",
    "        print(f\"Imágenes sin atributo alt: {len(imagenes_sin_alt)}\")\n",
    "        \n",
    "        # Análisis de contenido\n",
    "        texto = soup.get_text()\n",
    "        palabras = nltk.word_tokenize(texto)\n",
    "        stop_words = set(stopwords.words('spanish'))\n",
    "        palabras_clave = [palabra for palabra in palabras if palabra.lower() not in stop_words]\n",
    "        print(f\"Palabras clave: {', '.join(palabras_clave[:10])}\")\n",
    "        \n",
    "    except Exception as e:\n",
    "        print(f\"Error: {e}\")"
   ]
  },
  {
   "cell_type": "markdown",
   "metadata": {},
   "source": [
    "## Páginas a analizar"
   ]
  },
  {
   "cell_type": "markdown",
   "metadata": {},
   "source": [
    "Analizaremos la estructura de los encabezados de las distintas páginas de crédito vehicular en los principales bancos, cajas y financieras del Perú."
   ]
  },
  {
   "cell_type": "code",
   "execution_count": 3,
   "metadata": {},
   "outputs": [
    {
     "name": "stdout",
     "output_type": "stream",
     "text": [
      "Título: Crédito y Financiamiento Vehicular | BCP\n",
      "Descripción: Encuentra el crédito vehicular para tí en el BCP, así comprarás el auto de tus sueños sea nuevo o usado. Entérate más aquí.\n",
      "Estructura de encabezados:\n",
      "h1: Créditos Vehiculares\n",
      "h2: También te puede interesar\n",
      "h3: Descarga el App Banca Móvil BCP\n",
      "h3: Footer\n",
      "h3: Acerca del BCP\n",
      "h3: Otros servicios\n",
      "h3: Ubícanos\n",
      "h3: Ubícanos\n",
      "h3: Contáctanos\n",
      "h3: Síguenos\n",
      "Enlaces internos: 31\n",
      "Enlaces externos: 62\n",
      "Tiempo de carga: 1.02 segundos\n",
      "Imágenes sin atributo alt: 7\n",
      "Palabras clave: Crédito, Financiamiento, Vehicular, |, BCP, Z6_0064I3S0M0LJD0AR5TEAA501E0, Home, >, Préstamo, Personal\n"
     ]
    }
   ],
   "source": [
    "# BANCO DE CRÉDITO DEL PERÚ\n",
    "url = \"https://www.viabcp.com/creditos/credito-vehicular\"\n",
    "analizar_seo_prime(url)"
   ]
  },
  {
   "cell_type": "code",
   "execution_count": 4,
   "metadata": {},
   "outputs": [
    {
     "name": "stdout",
     "output_type": "stream",
     "text": [
      "Título: Crédito Vehicular | Scotiabank Perú\n",
      "Descripción: Financia hasta el 100% del valor de tu vehículo. Accede a un préstamo vehicular y págalo hasta en 60 meses. ¡Queremos ir al ritmo de tus sueños!\n",
      "Estructura de encabezados:\n",
      "h1: Crédito Vehicular\n",
      "h2: ¿Qué ventajas me ofrece un Crédito Vehicular?\n",
      "h2: Más Información\n",
      "h2: Solicita tu Crédito Vehicular AQUÍ\n",
      "h2: ¿Qué tomar en cuenta al pedir un Crédito Vehicular?\n",
      "h2: ¿Qué es un levantamiento de prenda o garantía vehicular?\n",
      "h2: Otros productos que te pueden interesar\n",
      "h3: Adelanto de Sueldo\n",
      "h3: Préstamo de Libre Disponibilidad con Garantía Hipotecaria\n",
      "h3: Crédito Hipotecario Emprendedor\n",
      "Error: 'href'\n"
     ]
    }
   ],
   "source": [
    "#SCOTIABANK\n",
    "url = \"https://www.scotiabank.com.pe/Personas/Prestamos/Creditos/Vehicular\"\n",
    "analizar_seo_prime(url)"
   ]
  },
  {
   "cell_type": "code",
   "execution_count": 5,
   "metadata": {},
   "outputs": [
    {
     "name": "stdout",
     "output_type": "stream",
     "text": [
      "Título: Crédito Vehicular - Caja Arequipa\n",
      "Descripción: Cumple tu sueño de tener tu auto propio, solicita tu crédito vehícular con nosotros y podrás adquirir un auto nuevo o usado.\n",
      "Estructura de encabezados:\n",
      "h2: Abre tu cuenta de ahorros.\n",
      "h1: Crédito Vehicular\n",
      "h2: ¿Qué es Crédito Vehicular?\n",
      "h2: Beneficios\n",
      "h2: Obtén tu crédito sencillo\n",
      "h3: Desde cualquier agencia de Caja Arequipa\n",
      "h3: Desde nuestra App Móvil\n",
      "h2: ¿Qué requisitos y documentos necesito para\n",
      "un Crédito Vehicular?\n",
      "h3: Con tan solo 6 requisitos podrás solicitar tu crédito vehicular\n",
      "h3: ¿Cómo funciona el financiamiento vehicular?\n",
      "h2: Para saber cómo funciona el financiamiento o crédito vehicular, tienes que saber que funciona para adquirir tu auto nuevo, remodelarlo o comprar ese carro seminuevo que parece recién salido de la tienda.\n",
      "h3: Pasos para solicitar tu crédito vehicular\n",
      "h2: Debes seguir los sientes pasos para ser parte del créidto vehicular:\n",
      "1. Presenta tu DNI y la documentación correspondiente.\n",
      "2. Tendrás que esperar desde 24 horas para saber si accedes al préstamo según evaluación.\n",
      "Con Caja Arequipa cuentas con la mejor tasa de crédito vehicular del mercado y podrás pagar tu préstamo de auto hasta en 72 meses.\n",
      "h2: ¿Por qué Caja Arequipa?\n",
      "h3: Regístrate\n",
      "h3: Te evaluamos\n",
      "h3: Recibe tu dinero\n",
      "h2: Preguntas frecuentes\n",
      "h2: Encuentra una de nuestras agencias\n",
      "más cercana a ti\n",
      "h2: Información del producto\n",
      "h3: Guía del Producto\n",
      "h3: Tarifario de tasas de interés\n",
      "h3: Tarifario de comisiones y gastos\n",
      "h3: Simulador de Interés\n",
      "h3: Formato Contractual\n",
      "h3: Hoja Resumen\n",
      "h3: Fórmula\n",
      "h3: Fórmula Reprogramaciones\n",
      "h3: Póliza crédito vehicular soles\n",
      "h3: Póliza crédito vehicular dólares\n",
      "h3: Requisitos para garantía\n",
      "h3: Riesgos y Condiciones\n",
      "h3: Cobertura Garantía Vehicular\n",
      "h2: Descarga la App Caja Arequipa\n",
      "h2: Realiza tus operaciones desde donde estés\n",
      "h2: Caja Arequipa\n",
      "h2: Legales\n",
      "h2: Ayuda\n",
      "h2: Ubícanos\n",
      "h2: Contacto\n",
      "h2: Central Telefónica: (51) (54) 380670 / 0800-20222\n",
      "h2: Síguenos\n",
      "h2: © 2024 Caja Arequipa - RUC 20100209641  Todos los derechos reservados.Caja Municipal de Ahorro y Crédito de Arequipa S.A.\n",
      "h3: ¿En qué puede ayudarte EVA hoy?\n",
      "h3: novedades\n",
      "h3: Banca por internet\n",
      "h3: Solicita un crédito por la web\n",
      "h3: Descarga la App\n",
      "h3: Productos PERSONAS\n",
      "h3: Créditos\n",
      "h3: ahorros\n",
      "h3: SEGUROS\n",
      "Enlaces internos: 0\n",
      "Enlaces externos: 305\n",
      "Tiempo de carga: 3.37 segundos\n",
      "Imágenes sin atributo alt: 25\n",
      "Palabras clave: Crédito, Vehicular, -, Caja, Arequipa, Negocios, Personas, X, Español, Quechua\n"
     ]
    }
   ],
   "source": [
    "#CAJA AREQUIPA\n",
    "url = \"https://www.cajaarequipa.pe/personas/creditos/vehicular/\"\n",
    "analizar_seo_prime(url)"
   ]
  },
  {
   "cell_type": "code",
   "execution_count": 6,
   "metadata": {},
   "outputs": [
    {
     "name": "stdout",
     "output_type": "stream",
     "text": [
      "Título: Préstamo Vehicular - BanBif\n",
      "Descripción: No encontrada\n",
      "Estructura de encabezados:\n",
      "h1: BanBif\n",
      "h1: BanBif\n",
      "h2: Préstamo Vehicular\n",
      "h2: Préstamo Vehicular\n",
      "h5: Soles oDólares\n",
      "h5: Increibles \n",
      "Beneficios\n",
      "h5: Banca por Internet\n",
      "h5: Amplia redde oficinas\n",
      "h2: Características\n",
      "h4: ¿Auto nuevo?\n",
      "h4: ¿Auto usado?\n",
      "h2: Beneficios\n",
      "h4: Solicita tu Préstamo Vehicular\n",
      "h2: Más información\n",
      "h4: ¿Qué es un Préstamo Vehicular?\n",
      "h4: ¿Puedo financiar a través de un Préstamo Vehicular, vehículos cuyo propietario \n",
      "\t\t\t\t\t\t\t\t\t\t\tsea una persona natural?\n",
      "h4: ¿Mi auto usado requiere seguro vehicular?\n",
      "h4: ¿El Préstamo Vehicular es contra garantía?\n",
      "h4: ¿Cómo realizo el pago de mi préstamo?\n",
      "h4: ¿Puedo realizar pagos anticipados o cancelar mi crédito en cualquier momento?\n",
      "h4: ¿Existe algún cobro de penalidad por pagos anticipados o al cancelar mi\n",
      "\t\t\t\t\t\t\t\tcrédito?\n",
      "h4: ¿Cómo se actualizará el cronograma después de un pago anticipado parcial?\n",
      "h4: ¿Cuándo entra un crédito en mora?\n",
      "h4: ¿Dónde puedo consultar los saldos y movimientos de mi préstamo?\n",
      "Error: 'href'\n"
     ]
    }
   ],
   "source": [
    "#BANBIF\n",
    "url = \"https://www.banbif.com.pe/Personas/Prestamos-Personales/prestamo-vehicular\"\n",
    "analizar_seo_prime(url)"
   ]
  }
 ],
 "metadata": {
  "kernelspec": {
   "display_name": "myenv",
   "language": "python",
   "name": "python3"
  },
  "language_info": {
   "codemirror_mode": {
    "name": "ipython",
    "version": 3
   },
   "file_extension": ".py",
   "mimetype": "text/x-python",
   "name": "python",
   "nbconvert_exporter": "python",
   "pygments_lexer": "ipython3",
   "version": "3.10.13"
  }
 },
 "nbformat": 4,
 "nbformat_minor": 2
}
