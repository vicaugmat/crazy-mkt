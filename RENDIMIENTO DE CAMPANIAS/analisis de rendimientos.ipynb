{
 "cells": [
  {
   "cell_type": "markdown",
   "metadata": {},
   "source": [
    "# Análisis de rendimiento de marketing (Marketing Performance Analysis)"
   ]
  },
  {
   "cell_type": "markdown",
   "metadata": {},
   "source": [
    "## Librerías"
   ]
  },
  {
   "cell_type": "code",
   "execution_count": null,
   "metadata": {},
   "outputs": [],
   "source": [
    "import pandas as pd\n",
    "import numpy as np"
   ]
  },
  {
   "cell_type": "markdown",
   "metadata": {},
   "source": [
    "## Funciones"
   ]
  },
  {
   "cell_type": "markdown",
   "metadata": {},
   "source": [
    "1. Retorno de la inversión en marketing\n",
    "\n",
    "    $$ROI = \\frac{I-Cm}{Cm}$$\n",
    "\n",
    "- I: Ingresos generados con atribución de marketing\n",
    "- Cm: Costos de marketing "
   ]
  },
  {
   "cell_type": "markdown",
   "metadata": {},
   "source": [
    "2. Costo de Adquisición de Clientes (CAC)\n",
    "\n",
    "    $$CAC=\\frac{Costos\\ de\\ marketing}{Clientes\\ adquiridos}$$"
   ]
  },
  {
   "cell_type": "markdown",
   "metadata": {},
   "source": [
    "3. Costo de Retención de Clientes (CCR)\n",
    "\n",
    "    $$CCR =\\frac{Costos\\ de\\ retención}{Clientes\\ retenidos}$$"
   ]
  },
  {
   "cell_type": "markdown",
   "metadata": {},
   "source": [
    "4. Lifetime value (LTV)\n",
    "\n",
    "    $$LTV_n = Ingreso\\ Promedio_{n} \\times Márgenes\\ Brutos \\times Promedio\\ de\\ Vida\\ del\\ Cliente$$\n"
   ]
  },
  {
   "cell_type": "code",
   "execution_count": null,
   "metadata": {},
   "outputs": [],
   "source": [
    "# Generar datos ficticios mejorados para el sector automotriz\n",
    "np.random.seed(42)\n",
    "periodos = [f'Year {i}' for i in range(1, 51)]\n",
    "gastos_marketing = np.random.uniform(20000, 50000, 50)\n",
    "clientes_adquiridos = np.random.randint(100, 200, 50)\n",
    "clientes_retenidos = np.random.randint(80, 150, 50)\n",
    "ingresos_adicionales = np.random.uniform(200000, 500000, 50)\n",
    "gastos_retencion = np.random.uniform(5000, 15000, 50)\n",
    "ingreso_promedio_cliente = np.random.uniform(20000, 50000, 50)\n",
    "margen_bruto = np.random.uniform(0.05, 0.15, 50)\n",
    "promedio_vida_cliente = np.random.choice([3, 4, 5], 50)  # en años\n",
    "costos_servicio = np.random.uniform(10000, 30000, 50)\n",
    "\n",
    "# Crear DataFrame\n",
    "data = {\n",
    "    'periodo': periodos,\n",
    "    'gastos_marketing': gastos_marketing,\n",
    "    'clientes_adquiridos': clientes_adquiridos,\n",
    "    'clientes_retenidos': clientes_retenidos,\n",
    "    'ingresos_adicionales': ingresos_adicionales,\n",
    "    'gastos_retencion': gastos_retencion,\n",
    "    'ingreso_promedio_cliente': ingreso_promedio_cliente,\n",
    "    'margen_bruto': margen_bruto,\n",
    "    'promedio_vida_cliente': promedio_vida_cliente,\n",
    "    'costos_servicio': costos_servicio\n",
    "}\n",
    "\n",
    "df = pd.DataFrame(data)\n"
   ]
  },
  {
   "cell_type": "code",
   "execution_count": null,
   "metadata": {},
   "outputs": [],
   "source": [
    "# Definir funciones para calcular los indicadores\n",
    "def calcular_roi_marketing(ingresos_adicionales, gastos_marketing):\n",
    "    return np.round((ingresos_adicionales - gastos_marketing) / gastos_marketing, 2)\n",
    "\n",
    "def calcular_cac(gastos_marketing, clientes_adquiridos):\n",
    "    return np.round(gastos_marketing / clientes_adquiridos, 2)\n",
    "\n",
    "def calcular_ccr(gastos_retencion, clientes_retenidos):\n",
    "    return np.round(gastos_retencion / clientes_retenidos, 2)\n",
    "\n",
    "def calcular_ltv(ingreso_promedio_cliente, margen_bruto, promedio_vida_cliente):\n",
    "    return np.round(ingreso_promedio_cliente * margen_bruto * promedio_vida_cliente, 2)"
   ]
  },
  {
   "cell_type": "code",
   "execution_count": null,
   "metadata": {},
   "outputs": [],
   "source": [
    "# Aplicar funciones a los datos\n",
    "df['ROI_marketing'] = calcular_roi_marketing(df['ingresos_adicionales'], df['gastos_marketing'])\n",
    "df['CAC'] = calcular_cac(df['gastos_marketing'], df['clientes_adquiridos'])\n",
    "df['CCR'] = calcular_ccr(df['gastos_retencion'], df['clientes_retenidos'])\n",
    "df['LTV'] = calcular_ltv(df['ingreso_promedio_cliente'], df['margen_bruto'], df['promedio_vida_cliente'])\n"
   ]
  },
  {
   "cell_type": "code",
   "execution_count": null,
   "metadata": {},
   "outputs": [],
   "source": [
    "# Mostrar resultados\n",
    "df"
   ]
  },
  {
   "cell_type": "code",
   "execution_count": null,
   "metadata": {},
   "outputs": [],
   "source": []
  }
 ],
 "metadata": {
  "kernelspec": {
   "display_name": "myenv",
   "language": "python",
   "name": "python3"
  },
  "language_info": {
   "codemirror_mode": {
    "name": "ipython",
    "version": 3
   },
   "file_extension": ".py",
   "mimetype": "text/x-python",
   "name": "python",
   "nbconvert_exporter": "python",
   "pygments_lexer": "ipython3",
   "version": "3.10.13"
  }
 },
 "nbformat": 4,
 "nbformat_minor": 2
}
